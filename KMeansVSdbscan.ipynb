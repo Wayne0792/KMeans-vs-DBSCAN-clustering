{
 "cells": [
  {
   "cell_type": "code",
   "execution_count": 34,
   "id": "3a89c413",
   "metadata": {},
   "outputs": [],
   "source": [
    "import numpy as np\n",
    "import pandas as pd\n",
    "\n",
    "import matplotlib.pyplot as plt\n",
    "import matplotlib.cm as cm\n",
    "\n",
    "import seaborn as sns\n",
    "from sklearn.preprocessing import StandardScaler\n",
    "\n",
    "from sklearn.cluster import KMeans, DBSCAN\n",
    "from sklearn.decomposition import PCA\n",
    "from sklearn import metrics"
   ]
  },
  {
   "cell_type": "code",
   "execution_count": 29,
   "id": "65c67964",
   "metadata": {
    "scrolled": true
   },
   "outputs": [
    {
     "data": {
      "text/html": [
       "<div>\n",
       "<style scoped>\n",
       "    .dataframe tbody tr th:only-of-type {\n",
       "        vertical-align: middle;\n",
       "    }\n",
       "\n",
       "    .dataframe tbody tr th {\n",
       "        vertical-align: top;\n",
       "    }\n",
       "\n",
       "    .dataframe thead th {\n",
       "        text-align: right;\n",
       "    }\n",
       "</style>\n",
       "<table border=\"1\" class=\"dataframe\">\n",
       "  <thead>\n",
       "    <tr style=\"text-align: right;\">\n",
       "      <th></th>\n",
       "      <th>x1</th>\n",
       "      <th>x2</th>\n",
       "      <th>x3</th>\n",
       "      <th>x4</th>\n",
       "      <th>x5</th>\n",
       "      <th>x6</th>\n",
       "    </tr>\n",
       "  </thead>\n",
       "  <tbody>\n",
       "    <tr>\n",
       "      <th>0</th>\n",
       "      <td>1.868873</td>\n",
       "      <td>-10.463549</td>\n",
       "      <td>0.674638</td>\n",
       "      <td>0.912393</td>\n",
       "      <td>-0.003039</td>\n",
       "      <td>-2.202443</td>\n",
       "    </tr>\n",
       "    <tr>\n",
       "      <th>1</th>\n",
       "      <td>-0.137840</td>\n",
       "      <td>5.363186</td>\n",
       "      <td>-0.444914</td>\n",
       "      <td>4.125290</td>\n",
       "      <td>0.002185</td>\n",
       "      <td>-6.643935</td>\n",
       "    </tr>\n",
       "    <tr>\n",
       "      <th>2</th>\n",
       "      <td>1.051263</td>\n",
       "      <td>-7.977121</td>\n",
       "      <td>-1.926635</td>\n",
       "      <td>1.195411</td>\n",
       "      <td>0.017575</td>\n",
       "      <td>-6.092424</td>\n",
       "    </tr>\n",
       "    <tr>\n",
       "      <th>3</th>\n",
       "      <td>1.426620</td>\n",
       "      <td>-10.728448</td>\n",
       "      <td>-0.062891</td>\n",
       "      <td>2.053938</td>\n",
       "      <td>0.001306</td>\n",
       "      <td>-4.519171</td>\n",
       "    </tr>\n",
       "    <tr>\n",
       "      <th>4</th>\n",
       "      <td>1.841122</td>\n",
       "      <td>-4.068528</td>\n",
       "      <td>-0.493864</td>\n",
       "      <td>3.354350</td>\n",
       "      <td>-0.014658</td>\n",
       "      <td>4.857383</td>\n",
       "    </tr>\n",
       "  </tbody>\n",
       "</table>\n",
       "</div>"
      ],
      "text/plain": [
       "         x1         x2        x3        x4        x5        x6\n",
       "0  1.868873 -10.463549  0.674638  0.912393 -0.003039 -2.202443\n",
       "1 -0.137840   5.363186 -0.444914  4.125290  0.002185 -6.643935\n",
       "2  1.051263  -7.977121 -1.926635  1.195411  0.017575 -6.092424\n",
       "3  1.426620 -10.728448 -0.062891  2.053938  0.001306 -4.519171\n",
       "4  1.841122  -4.068528 -0.493864  3.354350 -0.014658  4.857383"
      ]
     },
     "execution_count": 29,
     "metadata": {},
     "output_type": "execute_result"
    }
   ],
   "source": [
    "#importing standardized dataset\n",
    "\n",
    "df=pd.read_csv('cluster_data.xls')\n",
    "df.head()"
   ]
  },
  {
   "cell_type": "code",
   "execution_count": 30,
   "id": "cc84b7e0",
   "metadata": {},
   "outputs": [
    {
     "data": {
      "text/plain": [
       "x1    4000\n",
       "x2    4000\n",
       "x3    4000\n",
       "x4    4000\n",
       "x5    4000\n",
       "x6    4000\n",
       "dtype: int64"
      ]
     },
     "execution_count": 30,
     "metadata": {},
     "output_type": "execute_result"
    }
   ],
   "source": [
    "df.count()"
   ]
  },
  {
   "cell_type": "code",
   "execution_count": 31,
   "id": "167bdbb3",
   "metadata": {},
   "outputs": [
    {
     "name": "stdout",
     "output_type": "stream",
     "text": [
      "<class 'pandas.core.frame.DataFrame'>\n",
      "RangeIndex: 4000 entries, 0 to 3999\n",
      "Data columns (total 6 columns):\n",
      " #   Column  Non-Null Count  Dtype  \n",
      "---  ------  --------------  -----  \n",
      " 0   x1      4000 non-null   float64\n",
      " 1   x2      4000 non-null   float64\n",
      " 2   x3      4000 non-null   float64\n",
      " 3   x4      4000 non-null   float64\n",
      " 4   x5      4000 non-null   float64\n",
      " 5   x6      4000 non-null   float64\n",
      "dtypes: float64(6)\n",
      "memory usage: 187.6 KB\n"
     ]
    }
   ],
   "source": [
    "df.info()"
   ]
  },
  {
   "cell_type": "code",
   "execution_count": 32,
   "id": "00ac2f43",
   "metadata": {},
   "outputs": [
    {
     "data": {
      "text/html": [
       "<div>\n",
       "<style scoped>\n",
       "    .dataframe tbody tr th:only-of-type {\n",
       "        vertical-align: middle;\n",
       "    }\n",
       "\n",
       "    .dataframe tbody tr th {\n",
       "        vertical-align: top;\n",
       "    }\n",
       "\n",
       "    .dataframe thead th {\n",
       "        text-align: right;\n",
       "    }\n",
       "</style>\n",
       "<table border=\"1\" class=\"dataframe\">\n",
       "  <thead>\n",
       "    <tr style=\"text-align: right;\">\n",
       "      <th></th>\n",
       "      <th>count</th>\n",
       "      <th>mean</th>\n",
       "      <th>std</th>\n",
       "      <th>min</th>\n",
       "      <th>25%</th>\n",
       "      <th>50%</th>\n",
       "      <th>75%</th>\n",
       "      <th>max</th>\n",
       "    </tr>\n",
       "  </thead>\n",
       "  <tbody>\n",
       "    <tr>\n",
       "      <th>x1</th>\n",
       "      <td>4000.0</td>\n",
       "      <td>0.007323</td>\n",
       "      <td>1.153280</td>\n",
       "      <td>-1.999455</td>\n",
       "      <td>-0.967182</td>\n",
       "      <td>0.012657</td>\n",
       "      <td>1.010276</td>\n",
       "      <td>1.999196</td>\n",
       "    </tr>\n",
       "    <tr>\n",
       "      <th>x2</th>\n",
       "      <td>4000.0</td>\n",
       "      <td>-1.443023</td>\n",
       "      <td>5.178397</td>\n",
       "      <td>-12.533442</td>\n",
       "      <td>-4.876779</td>\n",
       "      <td>-1.006104</td>\n",
       "      <td>3.008330</td>\n",
       "      <td>7.514683</td>\n",
       "    </tr>\n",
       "    <tr>\n",
       "      <th>x3</th>\n",
       "      <td>4000.0</td>\n",
       "      <td>0.205024</td>\n",
       "      <td>0.984557</td>\n",
       "      <td>-3.166847</td>\n",
       "      <td>-0.460798</td>\n",
       "      <td>0.208712</td>\n",
       "      <td>0.878235</td>\n",
       "      <td>3.453225</td>\n",
       "    </tr>\n",
       "    <tr>\n",
       "      <th>x4</th>\n",
       "      <td>4000.0</td>\n",
       "      <td>1.975673</td>\n",
       "      <td>0.983769</td>\n",
       "      <td>-1.459410</td>\n",
       "      <td>1.303067</td>\n",
       "      <td>1.985659</td>\n",
       "      <td>2.646516</td>\n",
       "      <td>5.681363</td>\n",
       "    </tr>\n",
       "    <tr>\n",
       "      <th>x5</th>\n",
       "      <td>4000.0</td>\n",
       "      <td>-0.000081</td>\n",
       "      <td>0.010011</td>\n",
       "      <td>-0.036346</td>\n",
       "      <td>-0.006835</td>\n",
       "      <td>0.000030</td>\n",
       "      <td>0.006761</td>\n",
       "      <td>0.037306</td>\n",
       "    </tr>\n",
       "    <tr>\n",
       "      <th>x6</th>\n",
       "      <td>4000.0</td>\n",
       "      <td>4.541545</td>\n",
       "      <td>11.556712</td>\n",
       "      <td>-15.799297</td>\n",
       "      <td>-4.729720</td>\n",
       "      <td>-0.599134</td>\n",
       "      <td>9.076892</td>\n",
       "      <td>42.187483</td>\n",
       "    </tr>\n",
       "  </tbody>\n",
       "</table>\n",
       "</div>"
      ],
      "text/plain": [
       "     count      mean        std        min       25%       50%       75%  \\\n",
       "x1  4000.0  0.007323   1.153280  -1.999455 -0.967182  0.012657  1.010276   \n",
       "x2  4000.0 -1.443023   5.178397 -12.533442 -4.876779 -1.006104  3.008330   \n",
       "x3  4000.0  0.205024   0.984557  -3.166847 -0.460798  0.208712  0.878235   \n",
       "x4  4000.0  1.975673   0.983769  -1.459410  1.303067  1.985659  2.646516   \n",
       "x5  4000.0 -0.000081   0.010011  -0.036346 -0.006835  0.000030  0.006761   \n",
       "x6  4000.0  4.541545  11.556712 -15.799297 -4.729720 -0.599134  9.076892   \n",
       "\n",
       "          max  \n",
       "x1   1.999196  \n",
       "x2   7.514683  \n",
       "x3   3.453225  \n",
       "x4   5.681363  \n",
       "x5   0.037306  \n",
       "x6  42.187483  "
      ]
     },
     "execution_count": 32,
     "metadata": {},
     "output_type": "execute_result"
    }
   ],
   "source": [
    "#checking the description of my dataset\n",
    "df.describe().T"
   ]
  },
  {
   "cell_type": "code",
   "execution_count": 33,
   "id": "c010f4d9",
   "metadata": {},
   "outputs": [
    {
     "data": {
      "text/plain": [
       "x1    0\n",
       "x2    0\n",
       "x3    0\n",
       "x4    0\n",
       "x5    0\n",
       "x6    0\n",
       "dtype: int64"
      ]
     },
     "execution_count": 33,
     "metadata": {},
     "output_type": "execute_result"
    }
   ],
   "source": [
    "#checking the sum of null values\n",
    "\n",
    "df.isnull().sum()"
   ]
  },
  {
   "cell_type": "code",
   "execution_count": 36,
   "id": "2f7846db",
   "metadata": {},
   "outputs": [
    {
     "data": {
      "text/plain": [
       "array([[-7.17787464e+00,  8.76358600e+00,  1.36151038e+00,\n",
       "        -1.10755513e+00,  5.14803822e-01, -2.73589280e-03],\n",
       "       [-1.08482334e+01, -7.35420114e+00,  2.43582450e-01,\n",
       "         1.70182740e+00, -1.33408394e+00,  1.35930060e-03],\n",
       "       [-1.09345285e+01,  6.05834879e+00,  9.62290359e-01,\n",
       "         1.25464329e+00,  1.80297043e+00,  1.77132689e-02],\n",
       "       ...,\n",
       "       [ 1.33551472e+01, -1.66408791e+00, -1.80764304e+00,\n",
       "        -1.98752551e-01, -8.57111691e-01,  2.63679206e-02],\n",
       "       [ 9.38503087e+00, -9.30376221e-01, -1.37983144e+00,\n",
       "        -2.25425881e+00, -2.33605245e-01,  2.82648546e-03],\n",
       "       [ 1.53485075e+01,  3.65109182e-01, -4.01091635e-01,\n",
       "        -5.37268753e-01,  1.50444388e+00,  1.37082883e-02]])"
      ]
     },
     "execution_count": 36,
     "metadata": {},
     "output_type": "execute_result"
    }
   ],
   "source": [
    "#reducing the number of dimensions\n",
    "\n",
    "pca=PCA()\n",
    "pca_data=pca.fit_transform(df)\n",
    "pca_data"
   ]
  },
  {
   "cell_type": "code",
   "execution_count": 44,
   "id": "0e24c96a",
   "metadata": {},
   "outputs": [
    {
     "data": {
      "image/png": "[encoded data removed]",
      "text/plain": [
       "<Figure size 432x288 with 1 Axes>"
      ]
     },
     "metadata": {
      "needs_background": "light"
     },
     "output_type": "display_data"
    },
    {
     "name": "stdout",
     "output_type": "stream",
     "text": [
      "*From the chart we can see that the optimal number of k clusters is 4*\n"
     ]
    }
   ],
   "source": [
    "#finding the number of clusters using the Elbow method\n",
    "\n",
    "WSS=[]\n",
    "clusters=range(1,11)\n",
    "\n",
    "for cluster in clusters:\n",
    "    kmeans=KMeans(n_clusters=cluster, random_state=None)\n",
    "    kmeans=kmeans.fit(df)\n",
    "    WSS.append(kmeans.inertia_)\n",
    "    \n",
    "plt.plot(clusters,WSS)\n",
    "plt.xlabel(\"Number of clusters(K)\")\n",
    "plt.ylabel(\"Total Within Sum of Square\")\n",
    "plt.title(\"Optimal number of clusters\")\n",
    "plt.show()\n",
    "\n",
    "print(\"*From the chart we can see that the optimal number of k clusters is 4*\")"
   ]
  },
  {
   "cell_type": "code",
   "execution_count": null,
   "id": "85c9dc2f",
   "metadata": {},
   "outputs": [],
   "source": [
    "#finding the number of clusters using Silhouette score\n"
   ]
  }
 ],
 "metadata": {
  "kernelspec": {
   "display_name": "Python 3 (ipykernel)",
   "language": "python",
   "name": "python3"
  },
  "language_info": {
   "codemirror_mode": {
    "name": "ipython",
    "version": 3
   },
   "file_extension": ".py",
   "mimetype": "text/x-python",
   "name": "python",
   "nbconvert_exporter": "python",
   "pygments_lexer": "ipython3",
   "version": "3.9.7"
  }
 },
 "nbformat": 4,
 "nbformat_minor": 5
}
